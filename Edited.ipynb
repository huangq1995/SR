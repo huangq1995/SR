{
 "cells": [
  {
   "cell_type": "code",
   "execution_count": 1,
   "metadata": {
    "Collapsed": "false"
   },
   "outputs": [],
   "source": [
    "class ExposureFilter:\n",
    "    def __init__(self,img, acceleration_voltage, critical_dose_scaling, critical_dose_power, critical_dose_a, critical_dose_b,critical_dose_c, voltage_scaling_factor):\n",
    "        self.img = img\n",
    "        self.acceleration_volatage = acceleration_voltage\n",
    "        self.critical_dose_scaling = critical_dose_scaling\n",
    "        self.critical_dose_power = critical_dose_power\n",
    "        self.critical_dose_a = critical_dose_a\n",
    "        self.critical_dose_b = critical_dose_b\n",
    "        self.critical_dose_c = critical_dose_c\n",
    "        self.voltage_scaling_factor = voltage_scaling_factor\n",
    "    def DoseFilter(self,dose_at_end_of_frame, critical_dose):\n",
    "        #compute dose filter, which is the signal attenuation factor due to radiation damage\n",
    "        dose_filter = np.exp((-0.5*dose_at_end_of_frame)/critical_dose)\n",
    "        return dose_filter\n",
    "    def CriticalDose(self, spatial_frequency):\n",
    "        #given a spatial frequency, return the critical dose in electrons per square angstroms\n",
    "        critical_dose = (self.critical_dose_a*(spatial_frequency**self.critical_dose_b)+self.critical_dose_c)*self.voltage_scaling_factor\n",
    "        return critical_dose\n",
    "    def SignalToNoiseFromDoseGivenCriticalDose(self, dose, critical_dose):\n",
    "        #given a number of electrons and a critical dose, return the snr\n",
    "        if dose == 0.0:\n",
    "            snr = 0.0\n",
    "        else:\n",
    "            snr = (1-np.exp(-dose*0.5/critical_dose))**2/dose\n",
    "        return snr\n",
    "    def OptimalDoseGiven(self,critical_dose):\n",
    "        #given the critical dose, return an estimate of the optimal dose\n",
    "        optimal_dose = 2.51284 * critical_dose\n",
    "        return optimal_dose\n",
    "    def GetDoseFilter(self, dose_start, dose_finish):\n",
    "        #apply dose filter to the image\n",
    "        num_of_img = self.img.allimg().shape[0]\n",
    "        dose_per_frame = (dose_finish-dose_finish)/num_of_img\n",
    "        current_critical_dose = 0\n",
    "        critical_dose_at_dc = 10e35\n",
    "        all_filters = np.zeros([num_of_img, self.img.allimg().shape[1],self.img.allimg().shape[2]])\n",
    "        all_fft = np.zeros([num_of_img, self.img.allimg().shape[1],self.img.allimg().shape[2]], dtype=np.complex_)\n",
    "        for i in range(num_of_img):\n",
    "            print(i)\n",
    "            dose_finish += dose_per_frame\n",
    "            #do FFT of the image\n",
    "            single_frame = self.img.allimg()[i]\n",
    "            F = fft2(single_frame)\n",
    "            F = fftshift(F)\n",
    "            xfreq = np.fft.fftfreq(single_frame.shape[0],d = self.img.pixel_distance())\n",
    "            xfreq = fftshift(xfreq)\n",
    "            yfreq = np.fft.fftfreq(single_frame.shape[1],d = self.img.pixel_distance())\n",
    "            yfreq = fftshift(yfreq)\n",
    "            yfreq = yfreq*(-1)\n",
    "            for j in range(len(xfreq)):\n",
    "                for k in range(len(yfreq)):\n",
    "                    if xfreq[j] == 0.0 and yfreq[k] == 0.0:\n",
    "                        current_critical_dose = critical_dose_at_dc\n",
    "                    else:\n",
    "                        current_critical_dose = self.CriticalDose(np.sqrt(xfreq[j]**2+yfreq[k]**2))\n",
    "                    current_optimal_dose = self.OptimalDoseGiven(current_critical_dose)\n",
    "                    #print(current_critical_dose)\n",
    "                    #if (abs(dose_finish-current_optimal_dose) < abs(dose_start-current_optimal_dose)):\n",
    "                    if True:\n",
    "                        dose_filter = self.DoseFilter(dose_finish, current_critical_dose)\n",
    "                        #print(dose_filter)\n",
    "                        all_filters[i,j,k] = dose_filter\n",
    "                        new_val = dose_filter * F[j,k]\n",
    "                        all_fft[i,j,k] = new_val\n",
    "                    else:\n",
    "                        all_filters[i,j,k] = 0\n",
    "                        all_fft[i,j,k] = 0\n",
    "            dose_start += dose_per_frame\n",
    "        return all_filters, all_fft\n",
    "        "
   ]
  },
  {
   "cell_type": "code",
   "execution_count": 2,
   "metadata": {
    "Collapsed": "false"
   },
   "outputs": [],
   "source": [
    "import numpy as np\n",
    "import scipy.fftpack as spf\n",
    "from numpy.fft import fft2, fftshift, ifft2,ifftshift\n",
    "import mrcfile\n",
    "import cv2\n",
    "from scipy import misc"
   ]
  },
  {
   "cell_type": "code",
   "execution_count": 3,
   "metadata": {
    "Collapsed": "false"
   },
   "outputs": [],
   "source": [
    "class MovieImage:\n",
    "    def __init__(self, mrcfile, pixel_spacing, acceleration_voltage):\n",
    "        self.mrcfile = mrcfile\n",
    "        self.pixel_spacing = pixel_spacing\n",
    "        self.acceleration_voltage = acceleration_voltage\n",
    "    def allimg(self):\n",
    "        with mrcfile.open(self.mrcfile) as f:\n",
    "            movie = f.data\n",
    "        return movie\n",
    "    def pixel_distance(self):\n",
    "        return self.pixel_spacing"
   ]
  },
  {
   "cell_type": "code",
   "execution_count": null,
   "metadata": {
    "Collapsed": "false"
   },
   "outputs": [],
   "source": [
    "sum_fft = np.sum(all_fft, axis = 0)\n",
    "denom = np.sqrt(np.sum(np.power(all_filters, 2), axis = 0))\n",
    "final_fft = np.divide(sum_fft, denom)\n",
    "final_fft = ifftshift(final_fft)\n",
    "final = ifft2(final_fft)"
   ]
  },
  {
   "cell_type": "code",
   "execution_count": 4,
   "metadata": {
    "Collapsed": "false"
   },
   "outputs": [],
   "source": [
    "#Calculate structure tensor\n",
    "import cv2 as cv\n",
    "import numpy as np\n",
    "import argparse\n",
    "W = 52          # window size is WxW\n",
    "C_Thr = 0.43    # threshold for coherency\n",
    "LowThr = 35     # threshold1 for orientation, it ranges from 0 to 180\n",
    "HighThr = 57    # threshold2 for orientation, it ranges from 0 to 180\n",
    "def calcGST(inputIMG, w):\n",
    "    img = inputIMG.astype(np.float32)\n",
    "    # GST components calculation (start)\n",
    "    # J =  (J11 J12; J12 J22) - GST\n",
    "    imgDiffX = cv.Sobel(img, cv.CV_32F, 1, 0, 3)\n",
    "    imgDiffY = cv.Sobel(img, cv.CV_32F, 0, 1, 3)\n",
    "    imgDiffXY = cv.multiply(imgDiffX, imgDiffY)\n",
    "    \n",
    "    imgDiffXX = cv.multiply(imgDiffX, imgDiffX)\n",
    "    imgDiffYY = cv.multiply(imgDiffY, imgDiffY)\n",
    "    J11 = cv.boxFilter(imgDiffXX, cv.CV_32F, (w,w))\n",
    "    J22 = cv.boxFilter(imgDiffYY, cv.CV_32F, (w,w))\n",
    "    J12 = cv.boxFilter(imgDiffXY, cv.CV_32F, (w,w))\n",
    "    return J11, J22, J12"
   ]
  },
  {
   "cell_type": "code",
   "execution_count": 37,
   "metadata": {
    "Collapsed": "false"
   },
   "outputs": [],
   "source": [
    "class PixelOperation:\n",
    "    def __init__(self, J11, J12, J22):\n",
    "        self.J11 = J11\n",
    "        self.J12 = J12\n",
    "        self.J22 = J22\n",
    "\n",
    "    def gst(self):\n",
    "        gst_mat = np.array([[self.J11, self.J12],[self.J12, self.J22]])\n",
    "        return gst_mat\n",
    "    def DirectionVector(self, gst):\n",
    "        #each column is an eigenvector\n",
    "        w,v = np.linalg.eig(gst)\n",
    "        #print(w)\n",
    "        return w, v\n",
    "    def ComputeKs(self, w, v, kdetail, kshrink, kstretch, knoise, Dth, Dtr):\n",
    "        A = 1+np.sqrt(w[0]/w[1])\n",
    "        D = clamp(1-np.sqrt(w[0])/Dtr,0,1)\n",
    "        k1hat = kdetail*(kstretch*A)\n",
    "        k2hat = kdetail/(kshrink*A)\n",
    "        k1 = ((1-D)*k1hat+D*kdetail*knoise)**2\n",
    "        k2 = ((1-D)*k2hat+D*kdetail*knoise)**2\n",
    "        return k1, k2\n",
    "    def ComputeO(self, k1, k2, v):\n",
    "        kmat = np.diag([k1, k2])\n",
    "        o1 = np.matmul(v, kmat)\n",
    "        o2 = np.matmul(o1, np.transpose(v))\n",
    "\n",
    "        invo2 = np.linalg.pinv(o2)\n",
    "        return invo2\n",
    "        \n",
    "        "
   ]
  },
  {
   "cell_type": "code",
   "execution_count": 36,
   "metadata": {
    "Collapsed": "false"
   },
   "outputs": [],
   "source": [
    "#confidence in interpolation & actual shifts?"
   ]
  },
  {
   "cell_type": "code",
   "execution_count": 6,
   "metadata": {
    "Collapsed": "false"
   },
   "outputs": [],
   "source": [
    "class ImageOperation:\n",
    "    def __init__(self, img_stack):\n",
    "        self.img_stack = img_stack\n",
    "    def SlidingWindow(self,image, stepSize, windowSize):\n",
    "    # slide a window across the image\n",
    "        for y in range(1, image.shape[0]-1, stepSize):\n",
    "            for x in range(1, image.shape[1]-1, stepSize):\n",
    "            # yield the current window\n",
    "                yield (x, y, image[y-windowSize[1]//2:y + windowSize[1]//2+1, x-windowSize[0]//2:x + windowSize[0]//2+1])\n",
    "    def CalcMeanStd(self, stepSize, windowSize):\n",
    "        num_of_img = self.img_stack.shape[0]\n",
    "        pixel_mean = self.img_stack.copy()\n",
    "        pixel_std = self.img_stack.copy()\n",
    "        for i in range(num_of_img):\n",
    "            single_img = self.img_stack[i]\n",
    "            single_img = np.pad(single_img,((1,1),(1,1)), 'constant')\n",
    "            #print(single_img)\n",
    "            for (x, y, window) in self.SlidingWindow(single_img, stepSize=stepSize, windowSize= windowSize):\n",
    "                #print(window)\n",
    "                #print(x)\n",
    "                #print(y)\n",
    "                window_mean = np.mean(window)\n",
    "                window_std = np.std(window)\n",
    "                pixel_mean[i, y-1, x-1] = window_mean\n",
    "                pixel_std[i, y-1, x-1] = window_std\n",
    "        return pixel_mean, pixel_std\n",
    "    def CalcDiff(self, pixel_mean, pixel_std):\n",
    "        num_of_img = pixel_mean.shape[0]\n",
    "        base_mean = pixel_mean[0,:,:]\n",
    "        dms = pixel_mean.copy()\n",
    "        dmd = pixel_mean.copy()\n",
    "        for i in range(num_of_img):\n",
    "            current_mean = pixel_mean[i,:,:]\n",
    "            other_means = pixel_mean[np.arange(num_of_img)!=i,:,:]\n",
    "            #print(other_means.shape)\n",
    "            other_mean_mean = np.mean(other_means, axis = 0)\n",
    "            dms[i,:,:] = current_mean - other_mean_mean\n",
    "            dmd[i,:,:] = current_mean - base_mean\n",
    "        return dms, dmd\n",
    "    \n",
    "    def FinalD(self, dms, dmd):\n",
    "        dms2 = np.power(dms,2)\n",
    "        dmd2 = np.power(dmd, 2)\n",
    "        frac = dms2/(dms2+dmd2)\n",
    "        d = dms*frac\n",
    "        return d\n",
    "    \n",
    "    def RelativeS(self, error, row, col, thre, s1, s2):\n",
    "        #s1 = 12, s2 = 2\n",
    "        all_s = self.img_stack.copy()\n",
    "        num_of_imgs = error.shape[0]\n",
    "        total_patches = error.shape[1]\n",
    "        patch_row_width = self.img_stack.shape[1]//row\n",
    "        #print(patch_row_width)\n",
    "        patch_col_width = self.img_stack.shape[2]//col\n",
    "        for i in range(num_of_imgs):\n",
    "            it = 0\n",
    "            for j in range(row):\n",
    "                for k in range(col):\n",
    "                    #print(error[i, it])\n",
    "                    if error[i, it] >= thre:\n",
    "                        s = s1\n",
    "                    else:\n",
    "                        s = s2\n",
    "                    all_s[i,j*patch_row_width:(j+1)*patch_row_width, k*patch_col_width:(k+1)*patch_col_width] = s\n",
    "                    it += 1\n",
    "        return all_s\n",
    "    \n",
    "    def CalcR(self, s, d, sig, t):\n",
    "        R = s*np.exp(-(np.power(d, 2)/np.power(sig, 2)))-t\n",
    "        return R\n",
    "    \n",
    "                    \n",
    "            \n",
    "        "
   ]
  },
  {
   "cell_type": "code",
   "execution_count": 7,
   "metadata": {
    "Collapsed": "false"
   },
   "outputs": [],
   "source": [
    "window_dis = np.array([[-1,-1],[0,-1],[1,-1],[-1,0],[0,0],[1,0],[1,1],[1,0],[1,1]])\n"
   ]
  },
  {
   "cell_type": "code",
   "execution_count": 213,
   "metadata": {
    "Collapsed": "false"
   },
   "outputs": [
    {
     "data": {
      "text/plain": [
       "(2,)"
      ]
     },
     "execution_count": 213,
     "metadata": {},
     "output_type": "execute_result"
    }
   ],
   "source": [
    "np.transpose(window_dis[0]).shape"
   ]
  },
  {
   "cell_type": "code",
   "execution_count": 42,
   "metadata": {
    "Collapsed": "false"
   },
   "outputs": [],
   "source": [
    "def Merge(img_stack, R, J11, J12, J22,kdetail, kshrink, kstretch, knoise, Dth, Dtr):\n",
    "    #padding image and R for boundary cases\n",
    "    num_of_img = img_stack.shape[0]\n",
    "    merged_img = np.zeros([img_stack.shape[1],img_stack.shape[2]])\n",
    "    r = img_stack.shape[1]\n",
    "    c = img_stack.shape[2]\n",
    "    padded_img = np.pad(img_stack,((0,0),(1,1),(1,1)),'constant')\n",
    "    padded_R = np.pad(R, ((0,0),(1,1),(1,1)),'constant')\n",
    "    for i in range(1, padded_img.shape[1]-1):\n",
    "        for j in range(1, padded_img.shape[2]-1):\n",
    "            numerator = 0\n",
    "            denom = 0\n",
    "            for k in range(num_of_img):\n",
    "                #print(k)\n",
    "                pix_J11 = J11[k,i-1,j-1]\n",
    "                pix_J12 = J12[k,i-1,j-1]\n",
    "                pix_J22 = J22[k,i-1,j-1]\n",
    "                pix_op = PixelOperation(pix_J11, pix_J12, pix_J22)\n",
    "                pix_gst = pix_op.gst()\n",
    "                w,v = pix_op.DirectionVector(pix_gst)\n",
    "                k1, k2 = pix_op.ComputeKs(w,v,kdetail, kshrink, kstretch, knoise, Dth, Dtr)\n",
    "                invo = pix_op.ComputeO(k1, k2, v)\n",
    "                ws = np.zeros(9)\n",
    "                for it, dis in enumerate(window_dis):\n",
    "                    mult = np.matmul(np.matmul(dis, invo), dis)\n",
    "                    w_i = np.exp(-0.5*mult)\n",
    "                    ws[it] = w_i\n",
    "                ws = ws.reshape([3,3])\n",
    "                #print(invo)\n",
    "                #print(ws)\n",
    "                img_win = padded_img[k,i-1:i+2, j-1:j+2]\n",
    "                R_win = padded_R[k,i-1:i+2, j-1:j+2]\n",
    "                #print(R_win)\n",
    "                num = ws*img_win*R_win\n",
    "                den = ws*R_win\n",
    "                num = np.sum(num)\n",
    "                den = np.sum(den)\n",
    "                numerator += num\n",
    "                denom += den\n",
    "            #print(denom)\n",
    "            merged_img[i-1,j-1] = numerator/denom\n",
    "    return merged_img\n",
    "                \n",
    "                "
   ]
  },
  {
   "cell_type": "code",
   "execution_count": 66,
   "metadata": {
    "Collapsed": "false"
   },
   "outputs": [
    {
     "data": {
      "text/plain": [
       "(3, 2400, 2480)"
      ]
     },
     "execution_count": 66,
     "metadata": {},
     "output_type": "execute_result"
    }
   ],
   "source": [
    "J11.shape"
   ]
  },
  {
   "cell_type": "code",
   "execution_count": 14,
   "metadata": {
    "Collapsed": "false"
   },
   "outputs": [
    {
     "name": "stdout",
     "output_type": "stream",
     "text": [
      "(2400, 2480)\n",
      "(2400, 2480)\n",
      "(2400, 2480)\n"
     ]
    }
   ],
   "source": [
    "test_img = dat[10:13]\n",
    "interpolated_test_img = np.zeros([test_img.shape[0],test_img.shape[1]*2, test_img.shape[2]*2])\n",
    "for i in range(test_img.shape[0]):\n",
    "    interpolated = cv2.resize(test_img[i], (test_img.shape[2]*2, test_img.shape[1]*2))\n",
    "    print(interpolated.shape)\n",
    "    interpolated_test_img[i,:,:] = interpolated"
   ]
  },
  {
   "cell_type": "code",
   "execution_count": 24,
   "metadata": {
    "Collapsed": "false"
   },
   "outputs": [],
   "source": [
    "f = e[10:13,:]"
   ]
  },
  {
   "cell_type": "code",
   "execution_count": 15,
   "metadata": {
    "Collapsed": "false"
   },
   "outputs": [],
   "source": [
    "op = ImageOperation(interpolated_test_img)"
   ]
  },
  {
   "cell_type": "code",
   "execution_count": 27,
   "metadata": {
    "Collapsed": "false"
   },
   "outputs": [
    {
     "name": "stdout",
     "output_type": "stream",
     "text": [
      "(2400, 2480)\n",
      "(2400, 2480)\n",
      "(2400, 2480)\n"
     ]
    }
   ],
   "source": [
    "J11 = interpolated_test_img.copy()\n",
    "J12 = interpolated_test_img.copy()\n",
    "J22 = interpolated_test_img.copy()\n",
    "for i in range(interpolated_test_img.shape[0]):\n",
    "    j11s,j22s,j12s = calcGST(interpolated_test_img[i,:,:], 7)\n",
    "    print(j11s.shape)\n",
    "    J11[i,:,:] = j11s\n",
    "    J12[i,:,:] = j12s\n",
    "    J22[i,:,:] = j22s\n"
   ]
  },
  {
   "cell_type": "code",
   "execution_count": 28,
   "metadata": {
    "Collapsed": "false"
   },
   "outputs": [],
   "source": [
    "kdetail = 0.25\n",
    "kshrink = 2\n",
    "kstretch = 4\n",
    "knoise = 3.0\n",
    "Dth = 0.001\n",
    "Dtr = 0.003"
   ]
  },
  {
   "cell_type": "code",
   "execution_count": 18,
   "metadata": {
    "Collapsed": "false"
   },
   "outputs": [],
   "source": [
    "pixel_mean, pixel_std = op.CalcMeanStd(1, [3,3])"
   ]
  },
  {
   "cell_type": "code",
   "execution_count": 29,
   "metadata": {
    "Collapsed": "false"
   },
   "outputs": [],
   "source": [
    "dms, dmd = op.CalcDiff(pixel_mean,pixel_std)"
   ]
  },
  {
   "cell_type": "code",
   "execution_count": 30,
   "metadata": {
    "Collapsed": "false"
   },
   "outputs": [],
   "source": [
    "d = op.FinalD(dms, dmd)"
   ]
  },
  {
   "cell_type": "code",
   "execution_count": 31,
   "metadata": {
    "Collapsed": "false"
   },
   "outputs": [],
   "source": [
    "s = op.RelativeS(f, 5, 5, 0.5, 12, 2)"
   ]
  },
  {
   "cell_type": "code",
   "execution_count": 32,
   "metadata": {
    "Collapsed": "false"
   },
   "outputs": [],
   "source": [
    "R = op.CalcR(s, d, pixel_std, 0)"
   ]
  },
  {
   "cell_type": "code",
   "execution_count": 43,
   "metadata": {
    "Collapsed": "false"
   },
   "outputs": [],
   "source": [
    "merged = Merge(interpolated_test_img, R, J11, J12, J22,kdetail, kshrink, kstretch, knoise, Dth, Dtr)"
   ]
  },
  {
   "cell_type": "code",
   "execution_count": 53,
   "metadata": {
    "Collapsed": "false"
   },
   "outputs": [
    {
     "data": {
      "text/plain": [
       "array([[18.70401256, 18.74117642, 17.56845475, ..., 11.00912896,\n",
       "         8.74871106,  7.80906026],\n",
       "       [18.44000235, 18.76107968,  3.71947899, ...,  9.94181768,\n",
       "         7.89197359,  7.66599747],\n",
       "       [12.55757806,  9.54900614,  5.14309095, ..., 10.03808536,\n",
       "         8.14661857,  7.72722602],\n",
       "       ...,\n",
       "       [ 8.53618836,  4.98199637,  2.95475845, ..., 10.70818332,\n",
       "         8.92912672,  8.73118652],\n",
       "       [ 5.77561205,  5.99443063,  6.58439076, ...,  9.11686454,\n",
       "         5.79849084,  3.96429219],\n",
       "       [ 4.84765769,  5.57037285,  6.6283527 , ...,  9.78475046,\n",
       "         4.05794595,  1.08818399]])"
      ]
     },
     "execution_count": 53,
     "metadata": {},
     "output_type": "execute_result"
    }
   ],
   "source": [
    "merged"
   ]
  },
  {
   "cell_type": "code",
   "execution_count": 49,
   "metadata": {
    "Collapsed": "false"
   },
   "outputs": [],
   "source": [
    "orig = np.sum(interpolated_test_img, axis = 0)"
   ]
  },
  {
   "cell_type": "code",
   "execution_count": 52,
   "metadata": {
    "Collapsed": "false"
   },
   "outputs": [
    {
     "data": {
      "text/plain": [
       "array([[18.61560941, 18.61560893, 18.61560583, ..., 28.16994596,\n",
       "        23.52520609, 21.20283771],\n",
       "       [18.61560893, 18.61560917, 18.61560702, ..., 28.16994405,\n",
       "        23.52520609, 21.20283771],\n",
       "       [18.61560988, 18.61561084, 18.61561298, ..., 28.16994047,\n",
       "        23.52520585, 21.20283961],\n",
       "       ...,\n",
       "       [22.43213415, 21.37270689, 19.25385571, ..., 21.46356964,\n",
       "        22.79687977, 23.46353483],\n",
       "       [16.48593521, 17.53697443, 19.6390543 , ..., 22.30476761,\n",
       "        13.66184139,  9.34037733],\n",
       "       [13.51283658, 15.61910868, 19.83165312, ..., 22.72536588,\n",
       "         9.09432149,  2.27879959]])"
      ]
     },
     "execution_count": 52,
     "metadata": {},
     "output_type": "execute_result"
    }
   ],
   "source": [
    "orig"
   ]
  },
  {
   "cell_type": "code",
   "execution_count": 50,
   "metadata": {
    "Collapsed": "false"
   },
   "outputs": [
    {
     "data": {
      "text/plain": [
       "(2400, 2480)"
      ]
     },
     "execution_count": 50,
     "metadata": {},
     "output_type": "execute_result"
    }
   ],
   "source": [
    "orig.shape"
   ]
  },
  {
   "cell_type": "code",
   "execution_count": 46,
   "metadata": {
    "Collapsed": "false"
   },
   "outputs": [],
   "source": [
    "%matplotlib inline\n",
    "import matplotlib.pyplot as plt"
   ]
  },
  {
   "cell_type": "code",
   "execution_count": 47,
   "metadata": {
    "Collapsed": "false"
   },
   "outputs": [
    {
     "data": {
      "text/plain": [
       "<matplotlib.image.AxesImage at 0x7f1afe08af60>"
      ]
     },
     "execution_count": 47,
     "metadata": {},
     "output_type": "execute_result"
    },
    {
     "data": {
      "image/png": "[encoded data removed]",
      "text/plain": [
       "<Figure size 432x288 with 1 Axes>"
      ]
     },
     "metadata": {
      "needs_background": "light"
     },
     "output_type": "display_data"
    }
   ],
   "source": [
    "plt.imshow(merged)"
   ]
  },
  {
   "cell_type": "code",
   "execution_count": 48,
   "metadata": {
    "Collapsed": "false"
   },
   "outputs": [],
   "source": [
    "plt.imsave('merged.png',merged)"
   ]
  },
  {
   "cell_type": "code",
   "execution_count": 51,
   "metadata": {
    "Collapsed": "false"
   },
   "outputs": [],
   "source": [
    "plt.imsave('orig.png',orig)"
   ]
  },
  {
   "cell_type": "code",
   "execution_count": 34,
   "metadata": {
    "Collapsed": "false"
   },
   "outputs": [
    {
     "data": {
      "text/plain": [
       "array([[[ 0.98049982,  1.47074983,  1.80716491, ...,  2.00209392,\n",
       "          1.63123714,  0.76900276],\n",
       "        [ 1.47074978,  2.20612489,  2.71074759, ...,  3.00314101,\n",
       "          2.44685576,  1.15350416],\n",
       "        [ 2.0583348 ,  3.08750253,  3.50406641, ...,  3.06953825,\n",
       "          2.69930747,  1.44309571],\n",
       "        ...,\n",
       "        [ 5.98370308,  8.97555452,  8.71861802, ...,  5.21839841,\n",
       "          3.86682232,  2.10188195],\n",
       "        [ 4.79638518,  7.19457759,  6.79201966, ...,  4.19264041,\n",
       "          2.73122009,  1.34554538],\n",
       "        [ 2.49330325,  3.73995468,  3.43045746, ...,  2.31637398,\n",
       "          1.22102664,  0.47118084]],\n",
       "\n",
       "       [[ 8.3384374 , 12.50765567, 12.07090123, ...,  6.45342308,\n",
       "          5.48829089,  3.2790237 ],\n",
       "        [12.50765652, 18.76148436, 18.10635291, ...,  9.68013398,\n",
       "          8.23243602,  4.9185356 ],\n",
       "        [11.85165162, 17.77747726, 17.19204066, ...,  9.35758215,\n",
       "          8.22668256,  5.06044186],\n",
       "        ...,\n",
       "        [ 0.10805443,  0.1620814 ,  0.72844047, ..., 11.00785483,\n",
       "         10.28919538,  6.57802243],\n",
       "        [ 2.73173269,  4.09759924,  4.51401435, ..., 11.80724271,\n",
       "          7.9230495 ,  3.72784   ],\n",
       "        [ 3.14742215,  4.72113366,  4.91725969, ...,  8.15454017,\n",
       "          4.22137727,  1.22324774]],\n",
       "\n",
       "       [[-1.04533317, -1.56800003, -1.07848671, ...,  9.35167302,\n",
       "          9.08002504,  5.89153883],\n",
       "        [-1.56799995, -2.35200002, -1.61772972, ..., 14.02750916,\n",
       "         13.6200375 ,  8.83730835],\n",
       "        [-1.20070039, -1.80105024, -1.05489527, ..., 13.19960393,\n",
       "         12.54791164,  8.01596684],\n",
       "        ...,\n",
       "        [ 7.74659353, 10.93068483,  9.80310774, ...,  5.82945373,\n",
       "          6.32943752,  4.62858942],\n",
       "        [ 4.35629279,  7.11718529,  7.92410665, ...,  5.87239975,\n",
       "          5.69344791,  3.88614289],\n",
       "        [ 1.3764807 ,  2.94175192,  4.25403749, ...,  3.87453318,\n",
       "          3.38042646,  2.12505362]]])"
      ]
     },
     "execution_count": 34,
     "metadata": {},
     "output_type": "execute_result"
    }
   ],
   "source": [
    "pixel_mean"
   ]
  },
  {
   "cell_type": "code",
   "execution_count": 37,
   "metadata": {
    "Collapsed": "false"
   },
   "outputs": [],
   "source": [
    "f = e[10:13,:]"
   ]
  },
  {
   "cell_type": "code",
   "execution_count": 157,
   "metadata": {
    "Collapsed": "false"
   },
   "outputs": [
    {
     "name": "stdout",
     "output_type": "stream",
     "text": [
      "240\n"
     ]
    }
   ],
   "source": [
    "g = op.RelativeS(f, 5, 5, 0.5, 12, 2)"
   ]
  },
  {
   "cell_type": "code",
   "execution_count": 159,
   "metadata": {
    "Collapsed": "false"
   },
   "outputs": [
    {
     "data": {
      "text/plain": [
       "array([[2., 2., 2., ..., 2., 2., 2.],\n",
       "       [2., 2., 2., ..., 2., 2., 2.],\n",
       "       [2., 2., 2., ..., 2., 2., 2.],\n",
       "       ...,\n",
       "       [2., 2., 2., ..., 2., 2., 2.],\n",
       "       [2., 2., 2., ..., 2., 2., 2.],\n",
       "       [2., 2., 2., ..., 2., 2., 2.]], dtype=float32)"
      ]
     },
     "execution_count": 159,
     "metadata": {},
     "output_type": "execute_result"
    }
   ],
   "source": [
    "g[0]"
   ]
  },
  {
   "cell_type": "code",
   "execution_count": 162,
   "metadata": {
    "Collapsed": "false"
   },
   "outputs": [],
   "source": [
    "d = op.FinalD(dms, dmd)"
   ]
  },
  {
   "cell_type": "code",
   "execution_count": 191,
   "metadata": {
    "Collapsed": "false"
   },
   "outputs": [],
   "source": [
    "t = op.CalcR(g, d, b, 0)"
   ]
  },
  {
   "cell_type": "code",
   "execution_count": 220,
   "metadata": {
    "Collapsed": "false"
   },
   "outputs": [
    {
     "data": {
      "text/plain": [
       "6"
      ]
     },
     "execution_count": 220,
     "metadata": {},
     "output_type": "execute_result"
    }
   ],
   "source": [
    "tt = np.array([[1,2],[1,2]])\n",
    "np.sum(tt)"
   ]
  },
  {
   "cell_type": "code",
   "execution_count": 186,
   "metadata": {
    "Collapsed": "false"
   },
   "outputs": [],
   "source": [
    "for i in temp:\n",
    "    if i == 0.0:\n",
    "        print(i)"
   ]
  },
  {
   "cell_type": "code",
   "execution_count": 165,
   "metadata": {
    "Collapsed": "false"
   },
   "outputs": [
    {
     "data": {
      "text/plain": [
       "(4,)"
      ]
     },
     "execution_count": 165,
     "metadata": {},
     "output_type": "execute_result"
    }
   ],
   "source": [
    "b.shape"
   ]
  },
  {
   "cell_type": "code",
   "execution_count": 64,
   "metadata": {
    "Collapsed": "false"
   },
   "outputs": [
    {
     "data": {
      "text/plain": [
       "(1200, 1240)"
      ]
     },
     "execution_count": 64,
     "metadata": {},
     "output_type": "execute_result"
    }
   ],
   "source": [
    "dat[1].shape"
   ]
  },
  {
   "cell_type": "code",
   "execution_count": 166,
   "metadata": {
    "Collapsed": "false"
   },
   "outputs": [],
   "source": [
    "a,b = op.CalcMeanStd(1, [3,3])"
   ]
  },
  {
   "cell_type": "code",
   "execution_count": 167,
   "metadata": {
    "Collapsed": "false"
   },
   "outputs": [
    {
     "data": {
      "text/plain": [
       "(3, 1200, 1240)"
      ]
     },
     "execution_count": 167,
     "metadata": {},
     "output_type": "execute_result"
    }
   ],
   "source": [
    "b.shape"
   ]
  },
  {
   "cell_type": "code",
   "execution_count": 111,
   "metadata": {
    "Collapsed": "false"
   },
   "outputs": [
    {
     "name": "stdout",
     "output_type": "stream",
     "text": [
      "(2, 1200, 1240)\n",
      "(2, 1200, 1240)\n",
      "(2, 1200, 1240)\n"
     ]
    }
   ],
   "source": [
    "dms, dmd = op.CalcDiff(a, b)"
   ]
  },
  {
   "cell_type": "code",
   "execution_count": 100,
   "metadata": {
    "Collapsed": "false"
   },
   "outputs": [
    {
     "data": {
      "text/plain": [
       "array([[[2.8340154, 4.402512 , 4.857113 , ..., 5.0650735, 5.363048 ,\n",
       "         3.6990042],\n",
       "        [4.2448053, 6.4193306, 6.9527874, ..., 7.56953  , 6.8608675,\n",
       "         4.7777896],\n",
       "        [4.7603436, 7.170299 , 7.3031135, ..., 6.876983 , 5.9834123,\n",
       "         4.3043194],\n",
       "        ...,\n",
       "        [5.196184 , 6.4443536, 5.01079  , ..., 9.5581875, 9.204361 ,\n",
       "         5.9337945],\n",
       "        [4.4948597, 5.8282337, 5.048443 , ..., 8.603766 , 7.260203 ,\n",
       "         4.7627583],\n",
       "        [3.4588113, 4.2767367, 3.7229009, ..., 4.8385487, 4.6730022,\n",
       "         3.2751217]],\n",
       "\n",
       "       [[1.8706082, 2.4995673, 2.2795591, ..., 3.1695213, 3.7756026,\n",
       "         2.3772998],\n",
       "        [2.6048083, 3.4460142, 4.0411015, ..., 4.521162 , 5.236665 ,\n",
       "         3.3849952],\n",
       "        [2.1260905, 3.2664418, 5.0861597, ..., 5.5330997, 5.2486806,\n",
       "         3.4144642],\n",
       "        ...,\n",
       "        [4.061677 , 6.326722 , 7.734264 , ..., 4.855673 , 5.3408275,\n",
       "         3.594126 ],\n",
       "        [4.438267 , 6.5027137, 7.372564 , ..., 4.264887 , 4.705169 ,\n",
       "         3.2735593],\n",
       "        [3.2421215, 4.543601 , 4.9363613, ..., 2.3068378, 2.3599458,\n",
       "         1.5193378]]], dtype=float32)"
      ]
     },
     "execution_count": 100,
     "metadata": {},
     "output_type": "execute_result"
    }
   ],
   "source": [
    "a"
   ]
  },
  {
   "cell_type": "code",
   "execution_count": 9,
   "metadata": {
    "Collapsed": "false"
   },
   "outputs": [],
   "source": [
    "def ReadError(file, num_of_frames, num_of_patches):\n",
    "    errors = np.zeros([num_of_frames, num_of_patches])\n",
    "    patches = -1\n",
    "    with open(file,'r') as f:\n",
    "        for l in f:\n",
    "            if not l.startswith('#'):\n",
    "                l = l.split()\n",
    "                if len(l) == 0:\n",
    "                    patches += 1\n",
    "                else:\n",
    "                    frame = int(l[0])-1\n",
    "                    measured = np.array([float(l[3]),float(l[4])])\n",
    "                    interpolated = np.array([float(l[5]),float(l[6])])\n",
    "                    distance = np.linalg.norm(measured-interpolated)\n",
    "                    errors[frame,patches] = distance\n",
    "    f.close()\n",
    "    return errors\n",
    "                    "
   ]
  },
  {
   "cell_type": "code",
   "execution_count": 22,
   "metadata": {
    "Collapsed": "false"
   },
   "outputs": [],
   "source": [
    "e = ReadError('test.log0-Patch-Patch.log',50,25)"
   ]
  },
  {
   "cell_type": "code",
   "execution_count": 11,
   "metadata": {
    "Collapsed": "false"
   },
   "outputs": [
    {
     "data": {
      "text/plain": [
       "(50, 25)"
      ]
     },
     "execution_count": 11,
     "metadata": {},
     "output_type": "execute_result"
    }
   ],
   "source": [
    "e.shape"
   ]
  },
  {
   "cell_type": "code",
   "execution_count": 12,
   "metadata": {
    "Collapsed": "false"
   },
   "outputs": [
    {
     "name": "stderr",
     "output_type": "stream",
     "text": [
      "/home/wendy/anaconda3/lib/python3.7/site-packages/mrcfile/mrcinterpreter.py:208: RuntimeWarning: Map ID string not found - not an MRC file, or file is corrupt\n",
      "  warnings.warn(msg, RuntimeWarning)\n"
     ]
    }
   ],
   "source": [
    "with mrcfile.open('test2_Stk.mrc',permissive=True) as f:\n",
    "    dat = f.data"
   ]
  },
  {
   "cell_type": "code",
   "execution_count": 5,
   "metadata": {
    "Collapsed": "false"
   },
   "outputs": [
    {
     "data": {
      "text/plain": [
       "(5, 1200, 1240)"
      ]
     },
     "execution_count": 5,
     "metadata": {},
     "output_type": "execute_result"
    }
   ],
   "source": [
    "dat[0:5].shape"
   ]
  },
  {
   "cell_type": "code",
   "execution_count": 46,
   "metadata": {
    "Collapsed": "false"
   },
   "outputs": [
    {
     "data": {
      "text/plain": [
       "5.422753"
      ]
     },
     "execution_count": 46,
     "metadata": {},
     "output_type": "execute_result"
    }
   ],
   "source": [
    "dat[0,0,0]"
   ]
  },
  {
   "cell_type": "code",
   "execution_count": 13,
   "metadata": {
    "Collapsed": "false"
   },
   "outputs": [],
   "source": [
    "def clamp(x, lower, upper):\n",
    "    if x < lower:\n",
    "        x = lower\n",
    "    elif x > upper:\n",
    "        x = upper\n",
    "    return x\n"
   ]
  },
  {
   "cell_type": "code",
   "execution_count": 3,
   "metadata": {
    "Collapsed": "false"
   },
   "outputs": [
    {
     "data": {
      "text/plain": [
       "array([[1, 2],\n",
       "       [2, 1]])"
      ]
     },
     "execution_count": 3,
     "metadata": {},
     "output_type": "execute_result"
    }
   ],
   "source": [
    "np.array([[1,2],[2,1]])"
   ]
  },
  {
   "cell_type": "code",
   "execution_count": 5,
   "metadata": {
    "Collapsed": "false"
   },
   "outputs": [],
   "source": [
    "u,s,v = np.linalg.svd(np.array([[1,2],[2,1]]))"
   ]
  },
  {
   "cell_type": "code",
   "execution_count": 6,
   "metadata": {
    "Collapsed": "false"
   },
   "outputs": [
    {
     "data": {
      "text/plain": [
       "array([[-0.70710678, -0.70710678],\n",
       "       [-0.70710678,  0.70710678]])"
      ]
     },
     "execution_count": 6,
     "metadata": {},
     "output_type": "execute_result"
    }
   ],
   "source": [
    "u"
   ]
  },
  {
   "cell_type": "code",
   "execution_count": 10,
   "metadata": {
    "Collapsed": "false"
   },
   "outputs": [
    {
     "data": {
      "text/plain": [
       "array([[5, 0],\n",
       "       [0, 5]])"
      ]
     },
     "execution_count": 10,
     "metadata": {},
     "output_type": "execute_result"
    }
   ],
   "source": [
    "np.diag([5,5])"
   ]
  },
  {
   "cell_type": "code",
   "execution_count": 26,
   "metadata": {
    "Collapsed": "false"
   },
   "outputs": [],
   "source": [
    "a = np.zeros([5,5])"
   ]
  },
  {
   "cell_type": "code",
   "execution_count": 27,
   "metadata": {
    "Collapsed": "false"
   },
   "outputs": [],
   "source": [
    "a[0] = 5.5"
   ]
  },
  {
   "cell_type": "code",
   "execution_count": 28,
   "metadata": {
    "Collapsed": "false"
   },
   "outputs": [
    {
     "data": {
      "text/plain": [
       "array([[5.5, 5.5, 5.5, 5.5, 5.5],\n",
       "       [0. , 0. , 0. , 0. , 0. ],\n",
       "       [0. , 0. , 0. , 0. , 0. ],\n",
       "       [0. , 0. , 0. , 0. , 0. ],\n",
       "       [0. , 0. , 0. , 0. , 0. ]])"
      ]
     },
     "execution_count": 28,
     "metadata": {},
     "output_type": "execute_result"
    }
   ],
   "source": [
    "a"
   ]
  },
  {
   "cell_type": "code",
   "execution_count": null,
   "metadata": {
    "Collapsed": "false"
   },
   "outputs": [],
   "source": []
  }
 ],
 "metadata": {
  "kernelspec": {
   "display_name": "Python 3",
   "language": "python",
   "name": "python3"
  },
  "language_info": {
   "codemirror_mode": {
    "name": "ipython",
    "version": 3
   },
   "file_extension": ".py",
   "mimetype": "text/x-python",
   "name": "python",
   "nbconvert_exporter": "python",
   "pygments_lexer": "ipython3",
   "version": "3.6.8"
  }
 },
 "nbformat": 4,
 "nbformat_minor": 4
}
